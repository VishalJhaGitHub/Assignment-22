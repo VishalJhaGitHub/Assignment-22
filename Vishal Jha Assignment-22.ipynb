{
 "cells": [
  {
   "cell_type": "code",
   "execution_count": 1,
   "id": "0358eaf9-e3b0-42e0-9afd-5c0e659fba3f",
   "metadata": {},
   "outputs": [
    {
     "name": "stdout",
     "output_type": "stream",
     "text": [
      "0     4\n",
      "1     8\n",
      "2    15\n",
      "3    16\n",
      "4    23\n",
      "5    42\n",
      "dtype: int64\n"
     ]
    }
   ],
   "source": [
    "#1. Create a Pandas Series that contains the following data: 4, 8, 15, 16, 23, and 42. Then, print the series.\n",
    "\n",
    "#Ans\n",
    "\n",
    "import pandas as pd\n",
    "# create series\n",
    "series_data = pd.Series([4, 8, 15, 16, 23, 42])\n",
    "# print series\n",
    "print(series_data)"
   ]
  },
  {
   "cell_type": "code",
   "execution_count": 2,
   "id": "39468fce-ff92-4c80-af83-050cc8a85ff2",
   "metadata": {},
   "outputs": [
    {
     "name": "stdout",
     "output_type": "stream",
     "text": [
      "0     1\n",
      "1     2\n",
      "2     3\n",
      "3     4\n",
      "4     5\n",
      "5     6\n",
      "6     7\n",
      "7     8\n",
      "8     9\n",
      "9    10\n",
      "dtype: int64\n"
     ]
    }
   ],
   "source": [
    "#2. Create a variable of list type containing 10 elements in it, and apply pandas.Series function on the variable print it.\n",
    "\n",
    "#Ans\n",
    "\n",
    "import pandas as pd\n",
    "# create list\n",
    "my_list = [1, 2, 3, 4, 5, 6, 7, 8, 9, 10]\n",
    "# convert list to series\n",
    "my_series = pd.Series(my_list)\n",
    "# print series\n",
    "print(my_series)"
   ]
  },
  {
   "cell_type": "code",
   "execution_count": 3,
   "id": "17abc3b3-0003-4900-af5c-fea10f098503",
   "metadata": {},
   "outputs": [
    {
     "name": "stdout",
     "output_type": "stream",
     "text": [
      "     Name  Age  Gender\n",
      "0   Alice   25  Female\n",
      "1     Bob   30    Male\n",
      "2  Claire   27  Female\n"
     ]
    }
   ],
   "source": [
    "#3. Create a Pandas DataFrame that contains the following data:\n",
    "\n",
    "#Name\n",
    "\n",
    "#Alice\n",
    "#Bob\n",
    "#Claire\n",
    "\n",
    "#Age\n",
    "#25\n",
    "#30\n",
    "#27\n",
    "\n",
    "#Gender\n",
    "#Female\n",
    "#Male\n",
    "#Female\n",
    "\n",
    "#Then, print the DataFrame.\n",
    "\n",
    "#Ans\n",
    "\n",
    "import pandas as pd\n",
    "# create data dictionary\n",
    "data = {'Name': ['Alice', 'Bob', 'Claire'],\n",
    "        'Age': [25, 30, 27],\n",
    "        'Gender': ['Female', 'Male', 'Female']}\n",
    "# create DataFrame\n",
    "df = pd.DataFrame(data)\n",
    "# print DataFrame\n",
    "print(df)"
   ]
  },
  {
   "cell_type": "code",
   "execution_count": 4,
   "id": "631c7f71-76cf-48a1-9ff9-983e03cdb712",
   "metadata": {},
   "outputs": [
    {
     "name": "stdout",
     "output_type": "stream",
     "text": [
      "DataFrame:\n",
      "      Name  Age  Gender\n",
      "0   Alice   25  Female\n",
      "1     Bob   30    Male\n",
      "2  Claire   27  Female\n",
      "\n",
      "Series:\n",
      " 0     Alice\n",
      "1       Bob\n",
      "2    Claire\n",
      "Name: Name, dtype: object\n"
     ]
    }
   ],
   "source": [
    "#4. What is ‘DataFrame’ in pandas and how is it different from pandas.series? Explain with an example.\n",
    "\n",
    "#Ans\n",
    "\n",
    "#In Pandas, a DataFrame is a two-dimensional labeled data structure with columns of potentially different types. It is essentially a table that contains rows and columns of data, similar to a spreadsheet or a SQL table. A Pandas DataFrame can be thought of as a collection of Pandas Series objects, where each Series represents a column of the DataFrame.\n",
    "\n",
    "#Example \n",
    "\n",
    "import pandas as pd\n",
    "# create a dictionary of data\n",
    "data = {'Name': ['Alice', 'Bob', 'Claire'],\n",
    "        'Age': [25, 30, 27],\n",
    "        'Gender': ['Female', 'Male', 'Female']}\n",
    "# create a DataFrame\n",
    "df = pd.DataFrame(data)\n",
    "# create a Series\n",
    "name_series = df['Name']\n",
    "# print the DataFrame and the Series\n",
    "print(\"DataFrame:\\n\", df)\n",
    "print(\"\\nSeries:\\n\", name_series)"
   ]
  },
  {
   "cell_type": "code",
   "execution_count": 5,
   "id": "63110d5a-f951-46e0-a63f-c07a4778092d",
   "metadata": {},
   "outputs": [
    {
     "name": "stdout",
     "output_type": "stream",
     "text": [
      "Name\n",
      "Alice     23.5\n",
      "Bob       29.0\n",
      "Claire    26.5\n",
      "Name: Age, dtype: float64\n"
     ]
    }
   ],
   "source": [
    "#5. What are some common functions you can use to manipulate data in a Pandas DataFrame? Can you give an example of when you might use one of these functions?\n",
    "\n",
    "#Ans\n",
    "\n",
    "#Pandas provides a wide range of functions to manipulate data in a DataFrame. Here are some of the most common ones:\n",
    "\n",
    "#1 - head() and tail(): These functions allow you to view the first or last n rows of the DataFrame, respectively. This is useful when you want to quickly inspect the structure of the data.\n",
    "\n",
    "#2 - describe(): This function provides summary statistics of the DataFrame, including the count, mean, standard deviation, minimum, and maximum values of each column.\n",
    "\n",
    "#3 - drop(): This function allows you to remove rows or columns from the DataFrame based on a specified axis and labels.\n",
    "\n",
    "#4 - sort_values(): This function allows you to sort the DataFrame by one or more columns, either in ascending or descending order.\n",
    "\n",
    "#5 - groupby(): This function groups the DataFrame by one or more columns and allows you to perform aggregate functions such as sum(), mean(), count(), and max() on the grouped data.\n",
    "\n",
    "#6 - fillna(): This function allows you to fill missing values in the DataFrame with a specified value or method.\n",
    "\n",
    "#7 - apply(): This function applies a specified function to each element or column of the DataFrame.\n",
    "\n",
    "#Example\n",
    "\n",
    "import pandas as pd\n",
    "# create a DataFrame\n",
    "data = {'Name': ['Alice', 'Bob', 'Claire', 'Alice', 'Bob', 'Claire'],\n",
    "        'Age': [25, 30, 27, 22, 28, 26],\n",
    "        'Gender': ['Female', 'Male', 'Female', 'Female', 'Male', 'Female']}\n",
    "df = pd.DataFrame(data)\n",
    "# group the DataFrame by the 'Name' column and calculate the mean of the 'Age' column for each group\n",
    "grouped_df = df.groupby('Name')['Age'].mean()\n",
    "# print the grouped DataFrame\n",
    "print(grouped_df)"
   ]
  },
  {
   "cell_type": "code",
   "execution_count": 6,
   "id": "9ed28aa5-73d5-4bbc-ae43-49753ecb87e3",
   "metadata": {},
   "outputs": [],
   "source": [
    "#6. Which of the following is mutable in nature Series, DataFrame, Panel\n",
    "\n",
    "#Ans\n",
    "\n",
    "#In Pandas, both Series and DataFrame are mutable in nature while the Panel is immutable.\n",
    "\n",
    "#This means that both Series and DataFrame can be modified after they are created. For example, you can add or remove rows or columns, change the values in a specific cell or slice, and perform other modifications\n",
    "\n",
    "#The Panel is immutable which means that you cannot modify it after it is created. Instead, you can only create a new Panel object with the desired modifications. However, note that Panel is deprecated in the latest version of Pandas (1.0.0+) and its functionality is replaced with other data structures like multi-dimensional arrays and DataFrames with hierarchical indexing."
   ]
  },
  {
   "cell_type": "code",
   "execution_count": 7,
   "id": "b977d777-82e9-4e4b-be72-01e542bbddb4",
   "metadata": {},
   "outputs": [
    {
     "name": "stdout",
     "output_type": "stream",
     "text": [
      "   numbers  fruits  bools\n",
      "0       10   apple   True\n",
      "1       20  banana  False\n",
      "2       30  orange   True\n",
      "3       40   mango  False\n"
     ]
    }
   ],
   "source": [
    "#7. Create a DataFrame using multiple Series. Explain with an example.\n",
    "\n",
    "#Ans\n",
    "\n",
    "#In Pandas, a DataFrame is a two-dimensional data structure that can store data of different types (numeric, categorical, text, etc.). A DataFrame consists of rows and columns, where each column is a Pandas Series.\n",
    "\n",
    "#Example \n",
    "\n",
    "import pandas as pd\n",
    "# Create three Series\n",
    "s1 = pd.Series([10, 20, 30, 40])\n",
    "s2 = pd.Series(['apple', 'banana', 'orange', 'mango'])\n",
    "s3 = pd.Series([True, False, True, False])\n",
    "# Create a DataFrame using the Series\n",
    "df = pd.DataFrame({'numbers': s1, 'fruits': s2, 'bools': s3})\n",
    "# Print the DataFrame\n",
    "print(df)"
   ]
  },
  {
   "cell_type": "code",
   "execution_count": null,
   "id": "4b0d5cd0-ce26-4545-9b8e-d4f043e30305",
   "metadata": {},
   "outputs": [],
   "source": []
  }
 ],
 "metadata": {
  "kernelspec": {
   "display_name": "Python 3 (ipykernel)",
   "language": "python",
   "name": "python3"
  },
  "language_info": {
   "codemirror_mode": {
    "name": "ipython",
    "version": 3
   },
   "file_extension": ".py",
   "mimetype": "text/x-python",
   "name": "python",
   "nbconvert_exporter": "python",
   "pygments_lexer": "ipython3",
   "version": "3.10.8"
  }
 },
 "nbformat": 4,
 "nbformat_minor": 5
}
